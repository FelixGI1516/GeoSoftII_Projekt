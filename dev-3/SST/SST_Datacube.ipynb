{
 "cells": [
  {
   "cell_type": "code",
   "execution_count": 39,
   "metadata": {},
   "outputs": [],
   "source": [
    "import openeo\n",
    "\n",
    "\n",
    "'''Verbindung zur API und dem Backend, Authentifizierung'''\n",
    "con = openeo.connect(\"https://earthengine.openeo.org\")\n",
    "con.authenticate_basic(\"group22\", \"test123\")\n",
    "\n",
    "\n",
    "'''\n",
    "Erstellen des Datacubes mit Daten aus der NOAA - Collection (s. Pflichtenheft),\n",
    "Koordinaten: Am Nordkapp, \n",
    "Zeitraum: Jahr 2019, \n",
    "Bänder: SST\n",
    "'''\n",
    "datacube = con.load_collection(\"NOAA/CDR/SST_WHOI/V2\",\n",
    "                               spatial_extent = {\"west\": 9, \"south\": 75, \"east\": 12, \"north\": 78},\n",
    "                               temporal_extent = [\"2019-01-01\", \"2019-12-31\"],\n",
    "                               bands = [\"sea_surface_temperature\"])"
   ]
  },
  {
   "cell_type": "code",
   "execution_count": 40,
   "metadata": {},
   "outputs": [
    {
     "name": "stdout",
     "output_type": "stream",
     "text": [
      "0:00:00 Job '8MF0Y7kCparfy81y': running (progress N/A)\n",
      "0:00:05.056253 Job '8MF0Y7kCparfy81y': running (progress N/A)\n",
      "0:00:11.438269 Job '8MF0Y7kCparfy81y': running (progress N/A)\n",
      "0:00:19.376462 Job '8MF0Y7kCparfy81y': running (progress N/A)\n",
      "0:00:29.272278 Job '8MF0Y7kCparfy81y': running (progress N/A)\n",
      "0:00:41.614947 Job '8MF0Y7kCparfy81y': running (progress N/A)\n",
      "0:00:57.034636 Job '8MF0Y7kCparfy81y': running (progress N/A)\n",
      "0:01:16.235263 Job '8MF0Y7kCparfy81y': running (progress N/A)\n",
      "0:01:40.220355 Job '8MF0Y7kCparfy81y': running (progress N/A)\n",
      "0:02:10.176306 Job '8MF0Y7kCparfy81y': running (progress N/A)\n",
      "0:02:47.558948 Job '8MF0Y7kCparfy81y': running (progress N/A)\n",
      "0:03:34.259321 Job '8MF0Y7kCparfy81y': running (progress N/A)\n",
      "0:04:32.610675 Job '8MF0Y7kCparfy81y': running (progress N/A)\n",
      "0:05:32.738022 Job '8MF0Y7kCparfy81y': running (progress N/A)\n",
      "0:06:32.866033 Job '8MF0Y7kCparfy81y': finished (progress N/A)\n"
     ]
    },
    {
     "data": {
      "text/plain": [
       "{WindowsPath('D:/Tatjana/Documents/Studium/Semester 5 - Abgaben/Geosoftware 2/Code/Python/ea3f4a8d220d0796.tif'): {'href': 'https://earthengine.openeo.org/v1.0/storage/8MF0Y7kCparfy81y/ea3f4a8d220d0796.tif',\n",
       "  'rel': 'data',\n",
       "  'type': 'application/octet-stream'}}"
      ]
     },
     "execution_count": 40,
     "metadata": {},
     "output_type": "execute_result"
    }
   ],
   "source": [
    "'''Bestimmung des mean - Value über den Zeitraum'''\n",
    "mean_data19 = datacube.mean_time()\n",
    "\n",
    "'''Speichern des Ausgabebildes als GeoTIFF'''\n",
    "SST19 = mean_data19.save_result(format = \"GTIFF-THUMB\")\n",
    "\n",
    "'''Senden des Jobs an die API und erwarten des Ergebnisses'''\n",
    "job = SST19.send_job()\n",
    "job.start_and_wait().download_results()"
   ]
  }
 ],
 "metadata": {
  "kernelspec": {
   "display_name": "Python 3",
   "language": "python",
   "name": "python3"
  },
  "language_info": {
   "codemirror_mode": {
    "name": "ipython",
    "version": 3
   },
   "file_extension": ".py",
   "mimetype": "text/x-python",
   "name": "python",
   "nbconvert_exporter": "python",
   "pygments_lexer": "ipython3",
   "version": "3.9.0"
  }
 },
 "nbformat": 4,
 "nbformat_minor": 4
}
