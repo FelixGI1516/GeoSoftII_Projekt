{
 "cells": [
  {
   "cell_type": "code",
   "execution_count": 18,
   "metadata": {},
   "outputs": [],
   "source": [
    "import openeo\n",
    "\n",
    "'''Verbindung zur API und dem Backend, Authentifizierung'''\n",
    "con = openeo.connect(\"https://earthengine.openeo.org\")\n",
    "con.authenticate_basic(\"group22\", \"test123\")\n",
    "\n",
    "\n",
    "'''\n",
    "Erstellen des Datacubes mit Daten aus der Copernicus Sentinel-2 - Collection,\n",
    "Koordinaten: Um Münster herum, \n",
    "Zeitraum: July, August, September 2020, \n",
    "Bänder: Rot und NIR\n",
    "'''\n",
    "datacube = con.load_collection(\"COPERNICUS/S2_SR\",\n",
    "                               spatial_extent = {\"west\": 7.5, \"south\": 51.8, \"east\": 7.8, \"north\": 52.1},\n",
    "                               temporal_extent = [\"2020-07-01\", \"2020-10-01\"],\n",
    "                               bands = [\"B4\",\"B8\"])"
   ]
  },
  {
   "cell_type": "code",
   "execution_count": 19,
   "metadata": {},
   "outputs": [],
   "source": [
    "'''Filtern des Datacubes nach den Bändern'''\n",
    "redBand = datacube.filter_bands([\"B4\"])\n",
    "nirBand = datacube.filter_bands([\"B8\"])\n",
    "\n",
    "'''Bestimmung des mean - Value der beiden Bänder über den Zeitraum'''\n",
    "mean_redBand = redBand.mean_time()\n",
    "mean_nirBand = nirBand.mean_time()"
   ]
  },
  {
   "cell_type": "code",
   "execution_count": 20,
   "metadata": {},
   "outputs": [
    {
     "name": "stdout",
     "output_type": "stream",
     "text": [
      "0:00:00 Job 'KsRlylhQUIpomDWv': running (progress N/A)\n",
      "0:00:05.080438 Job 'KsRlylhQUIpomDWv': running (progress N/A)\n",
      "0:00:11.463616 Job 'KsRlylhQUIpomDWv': running (progress N/A)\n",
      "0:00:19.399725 Job 'KsRlylhQUIpomDWv': running (progress N/A)\n",
      "0:00:29.299921 Job 'KsRlylhQUIpomDWv': running (progress N/A)\n",
      "0:00:41.631600 Job 'KsRlylhQUIpomDWv': finished (progress N/A)\n"
     ]
    },
    {
     "data": {
      "text/plain": [
       "{WindowsPath('D:/Tatjana/Documents/Studium/Semester 5 - Abgaben/Geosoftware 2/Code/Python/a32e36ea3c45bd54.tif'): {'href': 'https://earthengine.openeo.org/v1.0/storage/KsRlylhQUIpomDWv/a32e36ea3c45bd54.tif',\n",
       "  'rel': 'data',\n",
       "  'type': 'application/octet-stream'}}"
      ]
     },
     "execution_count": 20,
     "metadata": {},
     "output_type": "execute_result"
    }
   ],
   "source": [
    "'''Mergen der Bänder und speichern des Ausgabebildes als GeoTIFF'''\n",
    "temp = mean_redBand.merge_cubes(mean_nirBand)\n",
    "temp = temp.save_result(format = \"GTIFF-THUMB\")\n",
    "\n",
    "'''Senden des Jobs an die API und erwarten des Ergebnisses'''\n",
    "job = temp.send_job()\n",
    "job.start_and_wait().download_results()"
   ]
  }
 ],
 "metadata": {
  "kernelspec": {
   "display_name": "Python 3",
   "language": "python",
   "name": "python3"
  },
  "language_info": {
   "codemirror_mode": {
    "name": "ipython",
    "version": 3
   },
   "file_extension": ".py",
   "mimetype": "text/x-python",
   "name": "python",
   "nbconvert_exporter": "python",
   "pygments_lexer": "ipython3",
   "version": "3.9.0"
  }
 },
 "nbformat": 4,
 "nbformat_minor": 4
}
